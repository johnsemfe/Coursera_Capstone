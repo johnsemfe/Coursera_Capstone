{
 "cells": [
  {
   "cell_type": "markdown",
   "id": "suffering-anime",
   "metadata": {},
   "source": [
    "## This notebook is going to be used for the Capstone project."
   ]
  },
  {
   "cell_type": "code",
   "execution_count": 1,
   "id": "proud-bidder",
   "metadata": {},
   "outputs": [
    {
     "name": "stdout",
     "output_type": "stream",
     "text": [
      "Hello Capstone Project Course!\n"
     ]
    }
   ],
   "source": [
    "import pandas as pd\n",
    "import numpy as np\n",
    "print(\"Hello Capstone Project Course!\")"
   ]
  },
  {
   "cell_type": "markdown",
   "id": "complicated-conducting",
   "metadata": {},
   "source": [
    "### Introduction of the Business problem"
   ]
  },
  {
   "cell_type": "markdown",
   "id": "tired-carpet",
   "metadata": {},
   "source": [
    "#### Intro\n",
    "I will explore the best location for a new coffee shop in Queens, NY. Queens is an up-and-coming borough with an emerging coffee culture.\n",
    "\n",
    "#### Target group\n",
    "Entrepreneurs looking to invest to a coffee house.\n",
    "Data scientists looking for common applications of foursquare data."
   ]
  },
  {
   "cell_type": "markdown",
   "id": "periodic-pennsylvania",
   "metadata": {},
   "source": [
    "### Data section"
   ]
  },
  {
   "cell_type": "markdown",
   "id": "seeing-eating",
   "metadata": {},
   "source": [
    "For this project we need the following data:\n",
    "1. New York City data that contains Borough, Neighborhoods along with there latitudes and longitudes\n",
    "Data Source: https://cocl.us/new_york_dataset\n",
    "Description: This data set contains the required information. And we will use this data set to explore various neighborhoods of new york city.\n",
    "2. Coffee shops in Queens neighborhood of new york city.\n",
    "Data Source: Foursquare API\n",
    "Description: By using this API we will get all the venues in the Queens neighborhood. We can filter these venues to get only coffee shops."
   ]
  },
  {
   "cell_type": "markdown",
   "id": "amateur-radiation",
   "metadata": {},
   "source": [
    "### Approach\n",
    "Collect the new york city data from https://cocl.us/new_york_dataset. <br>\n",
    "Using Foursquare API we will get all venues for each neighborhood.<br>\n",
    "Filter out all venues which are coffee shops.<br>\n",
    "Data Visualization and some statistical analysis.<br>\n",
    "Analyzing using Clustering (Specially K-Means): Find the best value of K and Visualize the neighborhood with a number of coffee shops.<br>\n",
    "Compare the Neighborhoods to Find the Best Place for Starting up a cafe.<br>\n",
    "Inference From these Results and related Conclusions"
   ]
  },
  {
   "cell_type": "code",
   "execution_count": null,
   "id": "quarterly-cambridge",
   "metadata": {},
   "outputs": [],
   "source": []
  }
 ],
 "metadata": {
  "kernelspec": {
   "display_name": "Python 3",
   "language": "python",
   "name": "python3"
  },
  "language_info": {
   "codemirror_mode": {
    "name": "ipython",
    "version": 3
   },
   "file_extension": ".py",
   "mimetype": "text/x-python",
   "name": "python",
   "nbconvert_exporter": "python",
   "pygments_lexer": "ipython3",
   "version": "3.9.2"
  }
 },
 "nbformat": 4,
 "nbformat_minor": 5
}
